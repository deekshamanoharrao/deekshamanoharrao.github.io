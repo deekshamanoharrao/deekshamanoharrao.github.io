{
 "cells": [
  {
   "cell_type": "code",
   "execution_count": 25,
   "id": "73140f3a",
   "metadata": {},
   "outputs": [],
   "source": [
    "import altair as alt"
   ]
  },
  {
   "cell_type": "markdown",
   "id": "f9d992bd",
   "metadata": {},
   "source": [
    "```java\n",
    "var myVisualization1 = {\n",
    "  // 1. data\n",
    "  \"data\":{\"url\":\"https://raw.githubusercontent.com/UIUC-iSchool-DataViz/is445_data/main/building_inventory.csv\"},\n",
    "  // 2. mark\n",
    "  \"mark\":\"bar\", \n",
    "  \"width\":\"600\",\n",
    "  \"height\":\"300\",\n",
    "  // 3. encodings\n",
    "  \"encoding\":{\n",
    "    \"x\":{\n",
    "      \"field\":\"Bldg Status\"},\n",
    "    \"y\":{\"aggregate\": \"count\"},\n",
    "    \"color\":{\"value\":\"red\"}\n",
    "  }  // end of encoding\n",
    "}; \n",
    "var Visualization1 = vegaEmbed(\"#Visualization1\",myVisualization1);\n",
    "```"
   ]
  },
  {
   "cell_type": "markdown",
   "id": "2460a1c7",
   "metadata": {},
   "source": [
    "## Visualization 1"
   ]
  },
  {
   "cell_type": "code",
   "execution_count": 26,
   "id": "af11c0a2",
   "metadata": {},
   "outputs": [],
   "source": [
    "chart1 = alt.Chart.from_dict({\n",
    "  \"data\":{\"url\":\"https://raw.githubusercontent.com/UIUC-iSchool-DataViz/is445_data/main/building_inventory.csv\"},\n",
    "   \"mark\":\"bar\", \n",
    "   \"width\":600,\n",
    "    \"height\":300,\n",
    "  \"encoding\":{\n",
    "     \"x\": {\"field\": \"Bldg Status\", \"type\": \"nominal\", \"title\": \"Building Status\"},\n",
    "     \"y\": {\"aggregate\": \"count\", \"title\": \"Count\"},\n",
    "      \"color\": {\"field\": \"Bldg Status\", \"type\": \"nominal\", \"scale\": {\"scheme\": \"category10\"}} \n",
    "   } #// end of encoding   \n",
    "})\n",
    "\n",
    "chart1 = chart1.transform_filter(\n",
    "    alt.datum['Year Acquired'] > 2000\n",
    ")\n",
    "\n"
   ]
  },
  {
   "cell_type": "code",
   "execution_count": 27,
   "id": "c65add4e",
   "metadata": {},
   "outputs": [
    {
     "data": {
      "text/html": [
       "\n",
       "<style>\n",
       "  #altair-viz-8f6c7de212844451964f2893786cf993.vega-embed {\n",
       "    width: 100%;\n",
       "    display: flex;\n",
       "  }\n",
       "\n",
       "  #altair-viz-8f6c7de212844451964f2893786cf993.vega-embed details,\n",
       "  #altair-viz-8f6c7de212844451964f2893786cf993.vega-embed details summary {\n",
       "    position: relative;\n",
       "  }\n",
       "</style>\n",
       "<div id=\"altair-viz-8f6c7de212844451964f2893786cf993\"></div>\n",
       "<script type=\"text/javascript\">\n",
       "  var VEGA_DEBUG = (typeof VEGA_DEBUG == \"undefined\") ? {} : VEGA_DEBUG;\n",
       "  (function(spec, embedOpt){\n",
       "    let outputDiv = document.currentScript.previousElementSibling;\n",
       "    if (outputDiv.id !== \"altair-viz-8f6c7de212844451964f2893786cf993\") {\n",
       "      outputDiv = document.getElementById(\"altair-viz-8f6c7de212844451964f2893786cf993\");\n",
       "    }\n",
       "    const paths = {\n",
       "      \"vega\": \"https://cdn.jsdelivr.net/npm/vega@5?noext\",\n",
       "      \"vega-lib\": \"https://cdn.jsdelivr.net/npm/vega-lib?noext\",\n",
       "      \"vega-lite\": \"https://cdn.jsdelivr.net/npm/vega-lite@5.15.1?noext\",\n",
       "      \"vega-embed\": \"https://cdn.jsdelivr.net/npm/vega-embed@6?noext\",\n",
       "    };\n",
       "\n",
       "    function maybeLoadScript(lib, version) {\n",
       "      var key = `${lib.replace(\"-\", \"\")}_version`;\n",
       "      return (VEGA_DEBUG[key] == version) ?\n",
       "        Promise.resolve(paths[lib]) :\n",
       "        new Promise(function(resolve, reject) {\n",
       "          var s = document.createElement('script');\n",
       "          document.getElementsByTagName(\"head\")[0].appendChild(s);\n",
       "          s.async = true;\n",
       "          s.onload = () => {\n",
       "            VEGA_DEBUG[key] = version;\n",
       "            return resolve(paths[lib]);\n",
       "          };\n",
       "          s.onerror = () => reject(`Error loading script: ${paths[lib]}`);\n",
       "          s.src = paths[lib];\n",
       "        });\n",
       "    }\n",
       "\n",
       "    function showError(err) {\n",
       "      outputDiv.innerHTML = `<div class=\"error\" style=\"color:red;\">${err}</div>`;\n",
       "      throw err;\n",
       "    }\n",
       "\n",
       "    function displayChart(vegaEmbed) {\n",
       "      vegaEmbed(outputDiv, spec, embedOpt)\n",
       "        .catch(err => showError(`Javascript Error: ${err.message}<br>This usually means there's a typo in your chart specification. See the javascript console for the full traceback.`));\n",
       "    }\n",
       "\n",
       "    if(typeof define === \"function\" && define.amd) {\n",
       "      requirejs.config({paths});\n",
       "      require([\"vega-embed\"], displayChart, err => showError(`Error loading script: ${err.message}`));\n",
       "    } else {\n",
       "      maybeLoadScript(\"vega\", \"5\")\n",
       "        .then(() => maybeLoadScript(\"vega-lite\", \"5.15.1\"))\n",
       "        .then(() => maybeLoadScript(\"vega-embed\", \"6\"))\n",
       "        .catch(showError)\n",
       "        .then(() => displayChart(vegaEmbed));\n",
       "    }\n",
       "  })({\"config\": {\"view\": {\"continuousWidth\": 300, \"continuousHeight\": 300}}, \"data\": {\"url\": \"https://raw.githubusercontent.com/UIUC-iSchool-DataViz/is445_data/main/building_inventory.csv\"}, \"mark\": \"bar\", \"encoding\": {\"color\": {\"field\": \"Bldg Status\", \"scale\": {\"scheme\": \"category10\"}, \"type\": \"nominal\"}, \"x\": {\"field\": \"Bldg Status\", \"title\": \"Building Status\", \"type\": \"nominal\"}, \"y\": {\"aggregate\": \"count\", \"title\": \"Count\"}}, \"height\": 300, \"transform\": [{\"filter\": \"(datum['Year Acquired'] > 2000)\"}], \"width\": 600, \"$schema\": \"https://vega.github.io/schema/vega-lite/v5.15.1.json\"}, {\"mode\": \"vega-lite\"});\n",
       "</script>"
      ],
      "text/plain": [
       "alt.Chart(...)"
      ]
     },
     "execution_count": 27,
     "metadata": {},
     "output_type": "execute_result"
    }
   ],
   "source": [
    "chart1"
   ]
  },
  {
   "cell_type": "code",
   "execution_count": 28,
   "id": "bc6d3e5d",
   "metadata": {},
   "outputs": [],
   "source": [
    "myJekyllDir = '/Users/Deeksha/Downloads/deekshamanoharrao.github.io/assets/json/'"
   ]
  },
  {
   "cell_type": "code",
   "execution_count": 29,
   "id": "6b0c2b17",
   "metadata": {},
   "outputs": [],
   "source": [
    "chart1.properties(width='container').save(myJekyllDir+'Vis2.json')"
   ]
  },
  {
   "cell_type": "markdown",
   "id": "1fa13907",
   "metadata": {},
   "source": [
    "## Explanation :\n",
    "\n",
    "Description of the Plot: \n",
    "The plot visualizes the distribution of building statuses in a dataset. Each bar represents a specific building status, providing a quick overview of the count of buildings associated with each status. The dataset is derived from building inventory data, and the focus is on understanding the distribution of building statuses.\n",
    "\n",
    "Design Choices Encodings :\n",
    "1) Mark: The choice of a vertical bar chart (mark=\"bar\") is suitable for showing the count or frequency of different categories, in this case, building statuses. \n",
    "2) Width and Height: The dimensions of the chart (width=600, height=300) are chosen to balance clarity and space usage, providing a compact yet informative visualization. \n",
    "3) Encodings: The nominal encoding (x) is employed for the \"Building Status,\" allowing distinct categories to be displayed along the x-axis. The count is aggregated and represented on the y-axis (y) as the height of the bars. \n",
    "\n",
    "Colormaps:\n",
    "For the color encoding, a categorical color scheme (\"category10\") was deliberately chosen to represent different building statuses. This decision enhances visual clarity by providing distinct colors for each category, facilitating easy interpretation. The \"category10\" scheme's predefined set ensures clear differentiation, contributing both functionally and aesthetically to the chart.\n",
    "\n",
    "\n",
    "Transformations: \n",
    "The plot includes a transformation (transform_filter) to filter the data, displaying only buildings acquired after the year 2000. This allows for a focused exploration of recent building statuses, contributing to a more relevant and up-to-date visualization. This design aims to offer a clear and concise representation of building statuses, emphasizing recent acquisitions through the applied transformation. The color choice helps draw attention to the bars, making the plot visually engaging and accessible.\n",
    "\n",
    "Overlap with Homework 7 :\n",
    "In the transition from Homework #7 to Homework #8, I redefined the initial bar chart by introducing a color map in Homework #8. For it to work with Altair a critical alteration involved removing the quotation marks around the numerical values specified for the \"mark\" and \"width\" parameters, which differed from the Homework #7 syntax. The chart now visualizes building status counts, with each status uniquely colored using a categorical color scheme. Additionally, a transformation filters out buildings acquired before 2000, refining the focus for a more relevant and insightful representation. This adaptation enhances the clarity and interpretability of the visualization.\n"
   ]
  },
  {
   "cell_type": "markdown",
   "id": "c362fd58",
   "metadata": {},
   "source": [
    "## Visualization 2"
   ]
  },
  {
   "cell_type": "markdown",
   "id": "511029b8",
   "metadata": {},
   "source": [
    "```java\n",
    "var myVisualization2 = {\n",
    "   // 1. data\n",
    "  \"data\":{\"url\":\"https://raw.githubusercontent.com/UIUC-iSchool-DataViz/is445_data/main/building_inventory.csv\"},\n",
    "  // 2. mark\n",
    "  \"mark\":\"line\", \n",
    "  \"width\":\"800\", // units are pixels by default\n",
    "  \"height\":\"500\",\n",
    "  // 3. encodings\n",
    "  \"encoding\":{\n",
    "    \"x\":{\n",
    "      \"field\":\"County\"},\n",
    "    \"y\":{\n",
    "      \"aggregate\":\"mean\",\n",
    "      \"field\": \"Square Footage\"},\n",
    "    \"color\":{\"value\":\"green\"}    \n",
    "  } // end of encoding\n",
    "}; \n",
    "\n",
    "var Visualization2 = vegaEmbed(\"#Visualization2\",myVisualization2);\n",
    "```"
   ]
  },
  {
   "cell_type": "code",
   "execution_count": 34,
   "id": "9d475f9b",
   "metadata": {},
   "outputs": [],
   "source": [
    "chart2 = alt.Chart.from_dict({\n",
    "  \"data\":{\"url\":\"https://raw.githubusercontent.com/UIUC-iSchool-DataViz/is445_data/main/building_inventory.csv\"},\n",
    "   \"mark\":\"bar\", \n",
    "   \"width\":600,\n",
    "    \"height\":300,\n",
    "   \"encoding\":{\n",
    "     \"x\": {\"field\": \"County\", \"title\": \"County\"},\n",
    "     \"y\": {\"aggregate\":\"mean\",\"field\": \"Square Footage\", \"title\": \"Square Footage Mean\"},\n",
    "     \"color\": {\"aggregate\": \"count\", \"type\": \"quantitative\", \"title\": \"Count\"}\n",
    "    }  # // end of encoding\n",
    "}).transform_filter(\n",
    "    alt.datum['Square Footage'] > 20000\n",
    ")"
   ]
  },
  {
   "cell_type": "code",
   "execution_count": 35,
   "id": "36f717c0",
   "metadata": {},
   "outputs": [
    {
     "data": {
      "text/html": [
       "\n",
       "<style>\n",
       "  #altair-viz-c84f019280f14473bd4ec9e7c3e7c0a3.vega-embed {\n",
       "    width: 100%;\n",
       "    display: flex;\n",
       "  }\n",
       "\n",
       "  #altair-viz-c84f019280f14473bd4ec9e7c3e7c0a3.vega-embed details,\n",
       "  #altair-viz-c84f019280f14473bd4ec9e7c3e7c0a3.vega-embed details summary {\n",
       "    position: relative;\n",
       "  }\n",
       "</style>\n",
       "<div id=\"altair-viz-c84f019280f14473bd4ec9e7c3e7c0a3\"></div>\n",
       "<script type=\"text/javascript\">\n",
       "  var VEGA_DEBUG = (typeof VEGA_DEBUG == \"undefined\") ? {} : VEGA_DEBUG;\n",
       "  (function(spec, embedOpt){\n",
       "    let outputDiv = document.currentScript.previousElementSibling;\n",
       "    if (outputDiv.id !== \"altair-viz-c84f019280f14473bd4ec9e7c3e7c0a3\") {\n",
       "      outputDiv = document.getElementById(\"altair-viz-c84f019280f14473bd4ec9e7c3e7c0a3\");\n",
       "    }\n",
       "    const paths = {\n",
       "      \"vega\": \"https://cdn.jsdelivr.net/npm/vega@5?noext\",\n",
       "      \"vega-lib\": \"https://cdn.jsdelivr.net/npm/vega-lib?noext\",\n",
       "      \"vega-lite\": \"https://cdn.jsdelivr.net/npm/vega-lite@5.15.1?noext\",\n",
       "      \"vega-embed\": \"https://cdn.jsdelivr.net/npm/vega-embed@6?noext\",\n",
       "    };\n",
       "\n",
       "    function maybeLoadScript(lib, version) {\n",
       "      var key = `${lib.replace(\"-\", \"\")}_version`;\n",
       "      return (VEGA_DEBUG[key] == version) ?\n",
       "        Promise.resolve(paths[lib]) :\n",
       "        new Promise(function(resolve, reject) {\n",
       "          var s = document.createElement('script');\n",
       "          document.getElementsByTagName(\"head\")[0].appendChild(s);\n",
       "          s.async = true;\n",
       "          s.onload = () => {\n",
       "            VEGA_DEBUG[key] = version;\n",
       "            return resolve(paths[lib]);\n",
       "          };\n",
       "          s.onerror = () => reject(`Error loading script: ${paths[lib]}`);\n",
       "          s.src = paths[lib];\n",
       "        });\n",
       "    }\n",
       "\n",
       "    function showError(err) {\n",
       "      outputDiv.innerHTML = `<div class=\"error\" style=\"color:red;\">${err}</div>`;\n",
       "      throw err;\n",
       "    }\n",
       "\n",
       "    function displayChart(vegaEmbed) {\n",
       "      vegaEmbed(outputDiv, spec, embedOpt)\n",
       "        .catch(err => showError(`Javascript Error: ${err.message}<br>This usually means there's a typo in your chart specification. See the javascript console for the full traceback.`));\n",
       "    }\n",
       "\n",
       "    if(typeof define === \"function\" && define.amd) {\n",
       "      requirejs.config({paths});\n",
       "      require([\"vega-embed\"], displayChart, err => showError(`Error loading script: ${err.message}`));\n",
       "    } else {\n",
       "      maybeLoadScript(\"vega\", \"5\")\n",
       "        .then(() => maybeLoadScript(\"vega-lite\", \"5.15.1\"))\n",
       "        .then(() => maybeLoadScript(\"vega-embed\", \"6\"))\n",
       "        .catch(showError)\n",
       "        .then(() => displayChart(vegaEmbed));\n",
       "    }\n",
       "  })({\"config\": {\"view\": {\"continuousWidth\": 300, \"continuousHeight\": 300}}, \"data\": {\"url\": \"https://raw.githubusercontent.com/UIUC-iSchool-DataViz/is445_data/main/building_inventory.csv\"}, \"mark\": \"bar\", \"encoding\": {\"color\": {\"aggregate\": \"count\", \"title\": \"Count\", \"type\": \"quantitative\"}, \"x\": {\"field\": \"County\", \"title\": \"County\"}, \"y\": {\"aggregate\": \"mean\", \"field\": \"Square Footage\", \"title\": \"Square Footage Mean\"}}, \"height\": 300, \"transform\": [{\"filter\": \"(datum['Square Footage'] > 20000)\"}], \"width\": 600, \"$schema\": \"https://vega.github.io/schema/vega-lite/v5.15.1.json\"}, {\"mode\": \"vega-lite\"});\n",
       "</script>"
      ],
      "text/plain": [
       "alt.Chart(...)"
      ]
     },
     "execution_count": 35,
     "metadata": {},
     "output_type": "execute_result"
    }
   ],
   "source": [
    "chart2"
   ]
  },
  {
   "cell_type": "code",
   "execution_count": 36,
   "id": "37281d73",
   "metadata": {},
   "outputs": [],
   "source": [
    "chart2.properties(width='container').save(myJekyllDir+'Vis3.json')"
   ]
  },
  {
   "cell_type": "markdown",
   "id": "71838186",
   "metadata": {},
   "source": [
    "## Explanation :\n",
    "\n",
    "Description of the plot:\n",
    "\n",
    "The second visualization explores the relationship between counties and the mean square footage of buildings, focusing on those with square footage exceeding 20,000. The chart employs a bar mark to represent the mean square footage for each county, with the color intensity indicating the count of buildings meeting the specified square footage criterion.\n",
    "\n",
    "Design Choices - Encodings :\n",
    "\n",
    "Mark: The choice of a vertical bar chart (mark=”bar”) is suitable for showing the count or frequency of different categories, in this case, building statuses. Width and Height: The dimensions of the chart (width=600, height=300) are chosen to balance clarity and space usage, providing a compact yet informative visualization. For the encoding choices, the X-axis represents the counties, offering a categorical view, while the Y-axis aggregates the mean square footage, providing a quantitative measure. This selection aims to highlight variations in square footage across different counties.\n",
    "\n",
    "Design Choices - Color Map :\n",
    "\n",
    "The color scheme utilizes a quantitative color map, where the intensity of color signifies the count of buildings. This choice aims to emphasize the distribution and density of buildings with square footage exceeding 20,000 in each county. The Viridis color map was chosen for its perceptual uniformity, ensuring accurate interpretation of building count variations.\n",
    "\n",
    "Transformations :\n",
    "\n",
    "A data transformation is applied to aggregate the average square footage for each county and subsequently filter out counties where the average square footage is below the threshold of 20,000. This transformation enhances the focus on counties with larger buildings, providing a clearer picture of the distribution.\n",
    "\n",
    "Overlap with Homework 7: In transitioning from Homework #7 to Homework #8, I modified the visualization approach while building upon the foundational aspects of Homework #7. In Homework #7, I employed a line chart with a continuous green color mark to represent the mean square footage across different counties. However, in Homework #8, I chose a bar chart for a more categorical representation of mean square footage, incorporating additional features for enhanced insights.\n",
    "\n",
    "Changes Made: For it to work with Altair a critical alteration involved removing the quotation marks around the numerical values specified for the “mark” and “width” parameters, which differed from the Homework #7 syntax. In Homework #8, the chart design was adapted to a bar mark, utilizing color as a quantitative representation of building count within each county. The color intensity indicates the count of buildings with square footage exceeding 20,000, offering a nuanced perspective on the distribution of larger buildings across counties. Additionally, a data transformation was introduced to filter out counties with mean square footage below the threshold of 20,000, focusing the visualization on relevant data points."
   ]
  },
  {
   "cell_type": "markdown",
   "id": "a9fb3a9c",
   "metadata": {},
   "source": [
    "## Adding interactivity and creating dashboard"
   ]
  },
  {
   "cell_type": "code",
   "execution_count": 47,
   "id": "8ce0a9de",
   "metadata": {},
   "outputs": [],
   "source": [
    "brush = alt.selection_interval(encodings=['x','y'])"
   ]
  },
  {
   "cell_type": "code",
   "execution_count": 50,
   "id": "be4c8cc5",
   "metadata": {},
   "outputs": [],
   "source": [
    "chart1_interactivity = alt.Chart.from_dict({\n",
    "    \"data\": {\"url\": \"https://raw.githubusercontent.com/UIUC-iSchool-DataViz/is445_data/main/building_inventory.csv\"},\n",
    "    \"mark\": \"rect\",\n",
    "    \"height\": 400,\n",
    "    \"encoding\": {\n",
    "        \"x\": {\"bin\": {\"maxbins\": 10}, \"field\": \"Square Footage\", \"type\": \"quantitative\"},\n",
    "        \"y\": {\"field\": \"Agency Name\", \"type\": \"ordinal\"},\n",
    "        \"color\": {\"aggregate\": \"count\", \"type\": \"quantitative\"}\n",
    "    }\n",
    "}).add_selection(brush)\n",
    "\n",
    "# Chart 2 (bar graph)\n",
    "chart2 = alt.Chart.from_dict({\n",
    "    \"data\": {\"url\": \"https://raw.githubusercontent.com/UIUC-iSchool-DataViz/is445_data/main/building_inventory.csv\"},\n",
    "    \"mark\": \"bar\",\n",
    "    \"encoding\": {\n",
    "        \"x\": {\"bin\": {\"maxbins\": 10}, \"field\": \"Square Footage\", \"type\": \"quantitative\"},\n",
    "        \"y\": {\"aggregate\": \"count\", \"type\": \"quantitative\"}\n",
    "    }\n",
    "}).transform_filter(brush)\n"
   ]
  },
  {
   "cell_type": "code",
   "execution_count": 51,
   "id": "6d61ba2d",
   "metadata": {},
   "outputs": [],
   "source": [
    "combined_charts = chart1_interactivity | chart2"
   ]
  },
  {
   "cell_type": "code",
   "execution_count": 52,
   "id": "304be7ea",
   "metadata": {},
   "outputs": [
    {
     "data": {
      "text/html": [
       "\n",
       "<style>\n",
       "  #altair-viz-89a0c9f7862c4312a4312c41af18b0d6.vega-embed {\n",
       "    width: 100%;\n",
       "    display: flex;\n",
       "  }\n",
       "\n",
       "  #altair-viz-89a0c9f7862c4312a4312c41af18b0d6.vega-embed details,\n",
       "  #altair-viz-89a0c9f7862c4312a4312c41af18b0d6.vega-embed details summary {\n",
       "    position: relative;\n",
       "  }\n",
       "</style>\n",
       "<div id=\"altair-viz-89a0c9f7862c4312a4312c41af18b0d6\"></div>\n",
       "<script type=\"text/javascript\">\n",
       "  var VEGA_DEBUG = (typeof VEGA_DEBUG == \"undefined\") ? {} : VEGA_DEBUG;\n",
       "  (function(spec, embedOpt){\n",
       "    let outputDiv = document.currentScript.previousElementSibling;\n",
       "    if (outputDiv.id !== \"altair-viz-89a0c9f7862c4312a4312c41af18b0d6\") {\n",
       "      outputDiv = document.getElementById(\"altair-viz-89a0c9f7862c4312a4312c41af18b0d6\");\n",
       "    }\n",
       "    const paths = {\n",
       "      \"vega\": \"https://cdn.jsdelivr.net/npm/vega@5?noext\",\n",
       "      \"vega-lib\": \"https://cdn.jsdelivr.net/npm/vega-lib?noext\",\n",
       "      \"vega-lite\": \"https://cdn.jsdelivr.net/npm/vega-lite@5.15.1?noext\",\n",
       "      \"vega-embed\": \"https://cdn.jsdelivr.net/npm/vega-embed@6?noext\",\n",
       "    };\n",
       "\n",
       "    function maybeLoadScript(lib, version) {\n",
       "      var key = `${lib.replace(\"-\", \"\")}_version`;\n",
       "      return (VEGA_DEBUG[key] == version) ?\n",
       "        Promise.resolve(paths[lib]) :\n",
       "        new Promise(function(resolve, reject) {\n",
       "          var s = document.createElement('script');\n",
       "          document.getElementsByTagName(\"head\")[0].appendChild(s);\n",
       "          s.async = true;\n",
       "          s.onload = () => {\n",
       "            VEGA_DEBUG[key] = version;\n",
       "            return resolve(paths[lib]);\n",
       "          };\n",
       "          s.onerror = () => reject(`Error loading script: ${paths[lib]}`);\n",
       "          s.src = paths[lib];\n",
       "        });\n",
       "    }\n",
       "\n",
       "    function showError(err) {\n",
       "      outputDiv.innerHTML = `<div class=\"error\" style=\"color:red;\">${err}</div>`;\n",
       "      throw err;\n",
       "    }\n",
       "\n",
       "    function displayChart(vegaEmbed) {\n",
       "      vegaEmbed(outputDiv, spec, embedOpt)\n",
       "        .catch(err => showError(`Javascript Error: ${err.message}<br>This usually means there's a typo in your chart specification. See the javascript console for the full traceback.`));\n",
       "    }\n",
       "\n",
       "    if(typeof define === \"function\" && define.amd) {\n",
       "      requirejs.config({paths});\n",
       "      require([\"vega-embed\"], displayChart, err => showError(`Error loading script: ${err.message}`));\n",
       "    } else {\n",
       "      maybeLoadScript(\"vega\", \"5\")\n",
       "        .then(() => maybeLoadScript(\"vega-lite\", \"5.15.1\"))\n",
       "        .then(() => maybeLoadScript(\"vega-embed\", \"6\"))\n",
       "        .catch(showError)\n",
       "        .then(() => displayChart(vegaEmbed));\n",
       "    }\n",
       "  })({\"config\": {\"view\": {\"continuousWidth\": 300, \"continuousHeight\": 300}}, \"hconcat\": [{\"data\": {\"url\": \"https://raw.githubusercontent.com/UIUC-iSchool-DataViz/is445_data/main/building_inventory.csv\"}, \"mark\": \"rect\", \"encoding\": {\"color\": {\"aggregate\": \"count\", \"type\": \"quantitative\"}, \"x\": {\"bin\": {\"maxbins\": 10}, \"field\": \"Square Footage\", \"type\": \"quantitative\"}, \"y\": {\"field\": \"Agency Name\", \"type\": \"ordinal\"}}, \"height\": 400, \"name\": \"view_6\"}, {\"data\": {\"url\": \"https://raw.githubusercontent.com/UIUC-iSchool-DataViz/is445_data/main/building_inventory.csv\"}, \"mark\": \"bar\", \"encoding\": {\"x\": {\"bin\": {\"maxbins\": 10}, \"field\": \"Square Footage\", \"type\": \"quantitative\"}, \"y\": {\"aggregate\": \"count\", \"type\": \"quantitative\"}}, \"transform\": [{\"filter\": {\"param\": \"param_2\"}}]}], \"params\": [{\"name\": \"param_2\", \"select\": {\"type\": \"interval\", \"encodings\": [\"x\", \"y\"]}, \"views\": [\"view_6\"]}], \"$schema\": \"https://vega.github.io/schema/vega-lite/v5.15.1.json\"}, {\"mode\": \"vega-lite\"});\n",
       "</script>"
      ],
      "text/plain": [
       "alt.HConcatChart(...)"
      ]
     },
     "execution_count": 52,
     "metadata": {},
     "output_type": "execute_result"
    }
   ],
   "source": [
    "combined_charts"
   ]
  },
  {
   "cell_type": "code",
   "execution_count": 54,
   "id": "16ebb479",
   "metadata": {},
   "outputs": [],
   "source": [
    "combined_charts.save(myJekyllDir + 'Vis4.json')"
   ]
  },
  {
   "cell_type": "markdown",
   "id": "161f20bb",
   "metadata": {},
   "source": [
    "## Explanation for the plot :\n",
    "\n",
    "In this visualization, I incorporated interactivity using a brush selection tool. The first chart, chart1_interactivity, is a heatmap with square footage on the x-axis, agency names on the y-axis, and color representing the count of buildings falling within each bin. The brush selection is applied to both the x and y axes, allowing users to interactively select a subset of the data. The second chart, chart2, is a bar graph displaying the count of buildings based on square footage. The bar chart dynamically updates based on the brush selection in the first chart. This interactivity enhances the exploration of building distribution across different agencies and square footage ranges. Users can visually identify patterns and relationships within the data by focusing on specific regions of interest, making the exploration process more intuitive and insightful."
   ]
  },
  {
   "cell_type": "code",
   "execution_count": null,
   "id": "b80ba4f8",
   "metadata": {},
   "outputs": [],
   "source": []
  }
 ],
 "metadata": {
  "kernelspec": {
   "display_name": "Python 3 (ipykernel)",
   "language": "python",
   "name": "python3"
  },
  "language_info": {
   "codemirror_mode": {
    "name": "ipython",
    "version": 3
   },
   "file_extension": ".py",
   "mimetype": "text/x-python",
   "name": "python",
   "nbconvert_exporter": "python",
   "pygments_lexer": "ipython3",
   "version": "3.9.12"
  }
 },
 "nbformat": 4,
 "nbformat_minor": 5
}
